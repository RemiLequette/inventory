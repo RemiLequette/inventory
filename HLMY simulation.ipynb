{
 "cells": [
  {
   "cell_type": "markdown",
   "metadata": {},
   "source": [
    "# Simulation of Inventory for September Data\n",
    "\n"
   ]
  },
  {
   "cell_type": "code",
   "execution_count": 1,
   "metadata": {
    "slideshow": {
     "slide_type": "skip"
    }
   },
   "outputs": [
    {
     "data": {
      "text/plain": [
       "replenish_from_df! (generic function with 1 method)"
      ]
     },
     "metadata": {},
     "output_type": "display_data"
    }
   ],
   "source": [
    "include(\"src/utils.jl\")\n",
    "include(\"src/read_data.jl\")\n",
    "include(\"src/plot_data.jl\")\n",
    "include(\"src/simulation.jl\")\n"
   ]
  },
  {
   "cell_type": "code",
   "execution_count": 2,
   "metadata": {},
   "outputs": [
    {
     "data": {
      "text/html": [
       "<div><div style = \"float: left;\"><span>78964×6 DataFrame</span></div><div style = \"float: right;\"><span style = \"font-style: italic;\">78939 rows omitted</span></div><div style = \"clear: both;\"></div></div><div class = \"data-frame\" style = \"overflow-x: scroll;\"><table class = \"data-frame\" style = \"margin-bottom: 6px;\"><thead><tr class = \"header\"><th class = \"rowNumber\" style = \"font-weight: bold; text-align: right;\">Row</th><th style = \"text-align: left;\">PURCHASE_ORDER</th><th style = \"text-align: left;\">ITEM_CODE</th><th style = \"text-align: left;\">ORDER_DATE</th><th style = \"text-align: left;\">ORDERED_QUANTITY</th><th style = \"text-align: left;\">DELIVERY_DATE</th><th style = \"text-align: left;\">DELIVERED_QUANTITY</th></tr><tr class = \"subheader headerLastRow\"><th class = \"rowNumber\" style = \"font-weight: bold; text-align: right;\"></th><th title = \"String15\" style = \"text-align: left;\">String15</th><th title = \"String31\" style = \"text-align: left;\">String31</th><th title = \"Date\" style = \"text-align: left;\">Date</th><th title = \"Union{Missing, Int64}\" style = \"text-align: left;\">Int64?</th><th title = \"Union{Missing, Date}\" style = \"text-align: left;\">Date?</th><th title = \"Union{Missing, Int64}\" style = \"text-align: left;\">Int64?</th></tr></thead><tbody><tr><td class = \"rowNumber\" style = \"font-weight: bold; text-align: right;\">1</td><td style = \"text-align: left;\">P30013660</td><td style = \"text-align: left;\">5PV-F8371-00</td><td style = \"text-align: left;\">2021-10-26</td><td style = \"text-align: right;\">600</td><td style = \"text-align: left;\">2021-12-07</td><td style = \"text-align: right;\">600</td></tr><tr><td class = \"rowNumber\" style = \"font-weight: bold; text-align: right;\">2</td><td style = \"text-align: left;\">P30013751</td><td style = \"text-align: left;\">90520-02818</td><td style = \"text-align: left;\">2021-11-15</td><td style = \"text-align: right;\">30</td><td style = \"text-align: left;\">2021-12-10</td><td style = \"text-align: right;\">30</td></tr><tr><td class = \"rowNumber\" style = \"font-weight: bold; text-align: right;\">3</td><td style = \"text-align: left;\">P30013762</td><td style = \"text-align: left;\">1S8-F139R-00</td><td style = \"text-align: left;\">2021-11-19</td><td style = \"text-align: right;\">200</td><td style = \"text-align: left;\">2022-01-04</td><td style = \"text-align: right;\">200</td></tr><tr><td class = \"rowNumber\" style = \"font-weight: bold; text-align: right;\">4</td><td style = \"text-align: left;\">P30013762</td><td style = \"text-align: left;\">1S8-F1717-00</td><td style = \"text-align: left;\">2021-11-19</td><td style = \"text-align: right;\">200</td><td style = \"text-align: left;\">2022-01-04</td><td style = \"text-align: right;\">200</td></tr><tr><td class = \"rowNumber\" style = \"font-weight: bold; text-align: right;\">5</td><td style = \"text-align: left;\">P30013762</td><td style = \"text-align: left;\">1S8-F1746-00</td><td style = \"text-align: left;\">2021-11-19</td><td style = \"text-align: right;\">200</td><td style = \"text-align: left;\">2022-01-04</td><td style = \"text-align: right;\">200</td></tr><tr><td class = \"rowNumber\" style = \"font-weight: bold; text-align: right;\">6</td><td style = \"text-align: left;\">P30013762</td><td style = \"text-align: left;\">5PV-F8371-00</td><td style = \"text-align: left;\">2021-11-19</td><td style = \"text-align: right;\">100</td><td style = \"text-align: left;\">2022-01-04</td><td style = \"text-align: right;\">100</td></tr><tr><td class = \"rowNumber\" style = \"font-weight: bold; text-align: right;\">7</td><td style = \"text-align: left;\">P30013662</td><td style = \"text-align: left;\">3XL-H5540-M0</td><td style = \"text-align: left;\">2021-10-26</td><td style = \"text-align: right;\">400</td><td style = \"text-align: left;\">2022-02-25</td><td style = \"text-align: right;\">400</td></tr><tr><td class = \"rowNumber\" style = \"font-weight: bold; text-align: right;\">8</td><td style = \"text-align: left;\">P30012507</td><td style = \"text-align: left;\">5XK-H3560-00</td><td style = \"text-align: left;\">2021-01-14</td><td style = \"text-align: right;\">600</td><td style = \"text-align: left;\">2022-02-10</td><td style = \"text-align: right;\">600</td></tr><tr><td class = \"rowNumber\" style = \"font-weight: bold; text-align: right;\">9</td><td style = \"text-align: left;\">P30012806</td><td style = \"text-align: left;\">5XK-H3560-00</td><td style = \"text-align: left;\">2021-03-11</td><td style = \"text-align: right;\">400</td><td style = \"text-align: left;\">2022-03-11</td><td style = \"text-align: right;\">400</td></tr><tr><td class = \"rowNumber\" style = \"font-weight: bold; text-align: right;\">10</td><td style = \"text-align: left;\">P30012915</td><td style = \"text-align: left;\">5XK-H3560-00</td><td style = \"text-align: left;\">2021-03-29</td><td style = \"text-align: right;\">800</td><td style = \"text-align: left;\">2022-03-11</td><td style = \"text-align: right;\">800</td></tr><tr><td class = \"rowNumber\" style = \"font-weight: bold; text-align: right;\">11</td><td style = \"text-align: left;\">P30013007</td><td style = \"text-align: left;\">5XK-H3560-00</td><td style = \"text-align: left;\">2021-04-14</td><td style = \"text-align: right;\">50</td><td style = \"text-align: left;\">2022-03-11</td><td style = \"text-align: right;\">50</td></tr><tr><td class = \"rowNumber\" style = \"font-weight: bold; text-align: right;\">12</td><td style = \"text-align: left;\">P30013101</td><td style = \"text-align: left;\">55C-F6335-10</td><td style = \"text-align: left;\">2021-05-03</td><td style = \"text-align: right;\">100</td><td style = \"text-align: left;\">2022-03-18</td><td style = \"text-align: right;\">100</td></tr><tr><td class = \"rowNumber\" style = \"font-weight: bold; text-align: right;\">13</td><td style = \"text-align: left;\">P30013101</td><td style = \"text-align: left;\">5XK-H3560-00</td><td style = \"text-align: left;\">2021-05-03</td><td style = \"text-align: right;\">1000</td><td style = \"text-align: left;\">2022-03-18</td><td style = \"text-align: right;\">1000</td></tr><tr><td style = \"text-align: right;\">&vellip;</td><td style = \"text-align: right;\">&vellip;</td><td style = \"text-align: right;\">&vellip;</td><td style = \"text-align: right;\">&vellip;</td><td style = \"text-align: right;\">&vellip;</td><td style = \"text-align: right;\">&vellip;</td><td style = \"text-align: right;\">&vellip;</td></tr><tr><td class = \"rowNumber\" style = \"font-weight: bold; text-align: right;\">78953</td><td style = \"text-align: left;\">P30018277</td><td style = \"text-align: left;\">MCD-GENMF-24</td><td style = \"text-align: left;\">2024-07-17</td><td style = \"text-align: right;\">17000</td><td style = \"text-align: left;\">2024-08-05</td><td style = \"text-align: right;\">17000</td></tr><tr><td class = \"rowNumber\" style = \"font-weight: bold; text-align: right;\">78954</td><td style = \"text-align: left;\">P30018403</td><td style = \"text-align: left;\">MCD-COLPM-03-0S</td><td style = \"text-align: left;\">2024-08-21</td><td style = \"text-align: right;\">51</td><td style = \"text-align: left;\">2024-09-25</td><td style = \"text-align: right;\">50</td></tr><tr><td class = \"rowNumber\" style = \"font-weight: bold; text-align: right;\">78955</td><td style = \"text-align: left;\">P30018403</td><td style = \"text-align: left;\">MCD-COLPM-03-0M</td><td style = \"text-align: left;\">2024-08-21</td><td style = \"text-align: right;\">77</td><td style = \"text-align: left;\">2024-09-25</td><td style = \"text-align: right;\">73</td></tr><tr><td class = \"rowNumber\" style = \"font-weight: bold; text-align: right;\">78956</td><td style = \"text-align: left;\">P30018403</td><td style = \"text-align: left;\">MCD-COLPM-03-0L</td><td style = \"text-align: left;\">2024-08-21</td><td style = \"text-align: right;\">102</td><td style = \"text-align: left;\">2024-09-25</td><td style = \"text-align: right;\">102</td></tr><tr><td class = \"rowNumber\" style = \"font-weight: bold; text-align: right;\">78957</td><td style = \"text-align: left;\">P30018403</td><td style = \"text-align: left;\">MCD-COLPM-03-XL</td><td style = \"text-align: left;\">2024-08-21</td><td style = \"text-align: right;\">102</td><td style = \"text-align: left;\">2024-09-25</td><td style = \"text-align: right;\">98</td></tr><tr><td class = \"rowNumber\" style = \"font-weight: bold; text-align: right;\">78958</td><td style = \"text-align: left;\">P30018403</td><td style = \"text-align: left;\">MCD-COLPM-03-2L</td><td style = \"text-align: left;\">2024-08-21</td><td style = \"text-align: right;\">51</td><td style = \"text-align: left;\">2024-09-25</td><td style = \"text-align: right;\">45</td></tr><tr><td class = \"rowNumber\" style = \"font-weight: bold; text-align: right;\">78959</td><td style = \"text-align: left;\">P30018403</td><td style = \"text-align: left;\">MCD-COLPM-03-3L</td><td style = \"text-align: left;\">2024-08-21</td><td style = \"text-align: right;\">26</td><td style = \"text-align: left;\">2024-09-25</td><td style = \"text-align: right;\">25</td></tr><tr><td class = \"rowNumber\" style = \"font-weight: bold; text-align: right;\">78960</td><td style = \"text-align: left;\">P30018278</td><td style = \"text-align: left;\">MCD-POUCH-24-RD</td><td style = \"text-align: left;\">2024-07-17</td><td style = \"text-align: right;\">500</td><td style = \"text-align: left;\">2024-09-20</td><td style = \"text-align: right;\">500</td></tr><tr><td class = \"rowNumber\" style = \"font-weight: bold; text-align: right;\">78961</td><td style = \"text-align: left;\">P30018278</td><td style = \"text-align: left;\">MCD-POUCH-24-BE</td><td style = \"text-align: left;\">2024-07-17</td><td style = \"text-align: right;\">500</td><td style = \"text-align: left;\">2024-09-20</td><td style = \"text-align: right;\">500</td></tr><tr><td class = \"rowNumber\" style = \"font-weight: bold; text-align: right;\">78962</td><td style = \"text-align: left;\">P30018278</td><td style = \"text-align: left;\">MCD-POUCH-24-BK</td><td style = \"text-align: left;\">2024-07-17</td><td style = \"text-align: right;\">500</td><td style = \"text-align: left;\">2024-09-20</td><td style = \"text-align: right;\">500</td></tr><tr><td class = \"rowNumber\" style = \"font-weight: bold; text-align: right;\">78963</td><td style = \"text-align: left;\">P30018475</td><td style = \"text-align: left;\">MCD-UMBFA-BE</td><td style = \"text-align: left;\">2024-08-29</td><td style = \"text-align: right;\">300</td><td style = \"font-style: italic; text-align: left;\">missing</td><td style = \"text-align: right;\">0</td></tr><tr><td class = \"rowNumber\" style = \"font-weight: bold; text-align: right;\">78964</td><td style = \"text-align: left;\">P30018475</td><td style = \"text-align: left;\">MCD-UMBFA-YW</td><td style = \"text-align: left;\">2024-08-29</td><td style = \"text-align: right;\">200</td><td style = \"font-style: italic; text-align: left;\">missing</td><td style = \"text-align: right;\">0</td></tr></tbody></table></div>"
      ],
      "text/latex": [
       "\\begin{tabular}{r|cccccc}\n",
       "\t& PURCHASE\\_ORDER & ITEM\\_CODE & ORDER\\_DATE & ORDERED\\_QUANTITY & DELIVERY\\_DATE & DELIVERED\\_QUANTITY\\\\\n",
       "\t\\hline\n",
       "\t& String15 & String31 & Date & Int64? & Date? & Int64?\\\\\n",
       "\t\\hline\n",
       "\t1 & P30013660 & 5PV-F8371-00 & 2021-10-26 & 600 & 2021-12-07 & 600 \\\\\n",
       "\t2 & P30013751 & 90520-02818 & 2021-11-15 & 30 & 2021-12-10 & 30 \\\\\n",
       "\t3 & P30013762 & 1S8-F139R-00 & 2021-11-19 & 200 & 2022-01-04 & 200 \\\\\n",
       "\t4 & P30013762 & 1S8-F1717-00 & 2021-11-19 & 200 & 2022-01-04 & 200 \\\\\n",
       "\t5 & P30013762 & 1S8-F1746-00 & 2021-11-19 & 200 & 2022-01-04 & 200 \\\\\n",
       "\t6 & P30013762 & 5PV-F8371-00 & 2021-11-19 & 100 & 2022-01-04 & 100 \\\\\n",
       "\t7 & P30013662 & 3XL-H5540-M0 & 2021-10-26 & 400 & 2022-02-25 & 400 \\\\\n",
       "\t8 & P30012507 & 5XK-H3560-00 & 2021-01-14 & 600 & 2022-02-10 & 600 \\\\\n",
       "\t9 & P30012806 & 5XK-H3560-00 & 2021-03-11 & 400 & 2022-03-11 & 400 \\\\\n",
       "\t10 & P30012915 & 5XK-H3560-00 & 2021-03-29 & 800 & 2022-03-11 & 800 \\\\\n",
       "\t11 & P30013007 & 5XK-H3560-00 & 2021-04-14 & 50 & 2022-03-11 & 50 \\\\\n",
       "\t12 & P30013101 & 55C-F6335-10 & 2021-05-03 & 100 & 2022-03-18 & 100 \\\\\n",
       "\t13 & P30013101 & 5XK-H3560-00 & 2021-05-03 & 1000 & 2022-03-18 & 1000 \\\\\n",
       "\t14 & P30013197 & 5BU-F6260-00 & 2021-06-04 & 1500 & 2022-09-30 & 1500 \\\\\n",
       "\t15 & P30013197 & 5XK-H3560-00 & 2021-06-04 & 500 & 2022-04-04 & 500 \\\\\n",
       "\t16 & P30013257 & 3XL-F6335-00 & 2021-07-02 & 1900 & 2022-12-22 & 1900 \\\\\n",
       "\t17 & P30013257 & 55C-F478E-10 & 2021-07-02 & 50 & 2022-01-11 & 50 \\\\\n",
       "\t18 & P30013257 & 55C-F6301-10 & 2021-07-02 & 300 & 2022-01-11 & 300 \\\\\n",
       "\t19 & P30013257 & 55C-H3550-10 & 2021-07-02 & 200 & 2022-01-11 & 200 \\\\\n",
       "\t20 & P30013257 & 10C-H3550-00 & 2021-07-02 & 300 & 2022-04-12 & 300 \\\\\n",
       "\t21 & P30013330 & BES-F4730-00 & 2021-07-23 & 30 & 2022-01-28 & 30 \\\\\n",
       "\t22 & P30013664 & 3XL-W0001-09 & 2021-10-26 & 1100 & 2021-11-18 & 1100 \\\\\n",
       "\t23 & P30013664 & 5XK-W0001-09 & 2021-10-26 & 1300 & 2021-11-18 & 1300 \\\\\n",
       "\t24 & P30013737 & BAX-F4730-20 & 2021-11-01 & 10 & 2023-04-25 & 10 \\\\\n",
       "\t$\\dots$ & $\\dots$ & $\\dots$ & $\\dots$ & $\\dots$ & $\\dots$ & $\\dots$ \\\\\n",
       "\\end{tabular}\n"
      ],
      "text/plain": [
       "\u001b[1m78964×6 DataFrame\u001b[0m\n",
       "\u001b[1m   Row \u001b[0m│\u001b[1m PURCHASE_ORDER \u001b[0m\u001b[1m ITEM_CODE       \u001b[0m\u001b[1m ORDER_DATE \u001b[0m\u001b[1m ORDERED_QUANTITY \u001b[0m\u001b[1m DELIVE\u001b[0m ⋯\n",
       "       │\u001b[90m String15       \u001b[0m\u001b[90m String31        \u001b[0m\u001b[90m Date       \u001b[0m\u001b[90m Int64?           \u001b[0m\u001b[90m Date? \u001b[0m ⋯\n",
       "───────┼────────────────────────────────────────────────────────────────────────\n",
       "     1 │ P30013660       5PV-F8371-00     2021-10-26               600  2021-1 ⋯\n",
       "     2 │ P30013751       90520-02818      2021-11-15                30  2021-1\n",
       "     3 │ P30013762       1S8-F139R-00     2021-11-19               200  2022-0\n",
       "     4 │ P30013762       1S8-F1717-00     2021-11-19               200  2022-0\n",
       "     5 │ P30013762       1S8-F1746-00     2021-11-19               200  2022-0 ⋯\n",
       "     6 │ P30013762       5PV-F8371-00     2021-11-19               100  2022-0\n",
       "     7 │ P30013662       3XL-H5540-M0     2021-10-26               400  2022-0\n",
       "     8 │ P30012507       5XK-H3560-00     2021-01-14               600  2022-0\n",
       "   ⋮   │       ⋮                ⋮             ⋮              ⋮                 ⋱\n",
       " 78958 │ P30018403       MCD-COLPM-03-2L  2024-08-21                51  2024-0 ⋯\n",
       " 78959 │ P30018403       MCD-COLPM-03-3L  2024-08-21                26  2024-0\n",
       " 78960 │ P30018278       MCD-POUCH-24-RD  2024-07-17               500  2024-0\n",
       " 78961 │ P30018278       MCD-POUCH-24-BE  2024-07-17               500  2024-0\n",
       " 78962 │ P30018278       MCD-POUCH-24-BK  2024-07-17               500  2024-0 ⋯\n",
       " 78963 │ P30018475       MCD-UMBFA-BE     2024-08-29               300 \u001b[90m missin\u001b[0m\n",
       " 78964 │ P30018475       MCD-UMBFA-YW     2024-08-29               200 \u001b[90m missin\u001b[0m\n",
       "\u001b[36m                                                2 columns and 78949 rows omitted\u001b[0m"
      ]
     },
     "metadata": {},
     "output_type": "display_data"
    }
   ],
   "source": [
    "df_supply = read_supply()\n",
    "df_delivery = read_delivery()"
   ]
  },
  {
   "cell_type": "code",
   "execution_count": null,
   "metadata": {},
   "outputs": [],
   "source": [
    "add_supply_ratio!(df_supply)"
   ]
  },
  {
   "cell_type": "code",
   "execution_count": 9,
   "metadata": {},
   "outputs": [
    {
     "data": {
      "text/html": [
       "<div><div style = \"float: left;\"><span>174×3 DataFrame</span></div><div style = \"float: right;\"><span style = \"font-style: italic;\">149 rows omitted</span></div><div style = \"clear: both;\"></div></div><div class = \"data-frame\" style = \"overflow-x: scroll;\"><table class = \"data-frame\" style = \"margin-bottom: 6px;\"><thead><tr class = \"header\"><th class = \"rowNumber\" style = \"font-weight: bold; text-align: right;\">Row</th><th style = \"text-align: left;\">ITEM</th><th style = \"text-align: left;\">ORDER_DATE</th><th style = \"text-align: left;\">ORDER_QUANTITY</th></tr><tr class = \"subheader headerLastRow\"><th class = \"rowNumber\" style = \"font-weight: bold; text-align: right;\"></th><th title = \"String31\" style = \"text-align: left;\">String31</th><th title = \"DateTime\" style = \"text-align: left;\">DateTime</th><th title = \"Int64\" style = \"text-align: left;\">Int64</th></tr></thead><tbody><tr><td class = \"rowNumber\" style = \"font-weight: bold; text-align: right;\">1</td><td style = \"text-align: left;\">MCD-COL60-WH-0L</td><td style = \"text-align: left;\">2022-04-09T07:25:00</td><td style = \"text-align: right;\">1</td></tr><tr><td class = \"rowNumber\" style = \"font-weight: bold; text-align: right;\">2</td><td style = \"text-align: left;\">MCD-COL60-WH-0L</td><td style = \"text-align: left;\">2022-04-09T07:35:00</td><td style = \"text-align: right;\">1</td></tr><tr><td class = \"rowNumber\" style = \"font-weight: bold; text-align: right;\">3</td><td style = \"text-align: left;\">MCD-COL60-WH-0L</td><td style = \"text-align: left;\">2022-04-09T08:10:00</td><td style = \"text-align: right;\">1</td></tr><tr><td class = \"rowNumber\" style = \"font-weight: bold; text-align: right;\">4</td><td style = \"text-align: left;\">MCD-COL60-WH-0L</td><td style = \"text-align: left;\">2022-04-09T10:25:00</td><td style = \"text-align: right;\">1</td></tr><tr><td class = \"rowNumber\" style = \"font-weight: bold; text-align: right;\">5</td><td style = \"text-align: left;\">MCD-COL60-WH-0L</td><td style = \"text-align: left;\">2022-04-09T11:05:00</td><td style = \"text-align: right;\">1</td></tr><tr><td class = \"rowNumber\" style = \"font-weight: bold; text-align: right;\">6</td><td style = \"text-align: left;\">MCD-COL60-WH-0L</td><td style = \"text-align: left;\">2022-04-09T11:15:00</td><td style = \"text-align: right;\">4</td></tr><tr><td class = \"rowNumber\" style = \"font-weight: bold; text-align: right;\">7</td><td style = \"text-align: left;\">MCD-COL60-WH-0L</td><td style = \"text-align: left;\">2022-04-09T13:50:00</td><td style = \"text-align: right;\">1</td></tr><tr><td class = \"rowNumber\" style = \"font-weight: bold; text-align: right;\">8</td><td style = \"text-align: left;\">MCD-COL60-WH-0L</td><td style = \"text-align: left;\">2022-04-10T15:30:00</td><td style = \"text-align: right;\">1</td></tr><tr><td class = \"rowNumber\" style = \"font-weight: bold; text-align: right;\">9</td><td style = \"text-align: left;\">MCD-COL60-WH-0L</td><td style = \"text-align: left;\">2022-04-12T11:00:00</td><td style = \"text-align: right;\">1</td></tr><tr><td class = \"rowNumber\" style = \"font-weight: bold; text-align: right;\">10</td><td style = \"text-align: left;\">MCD-COL60-WH-0L</td><td style = \"text-align: left;\">2022-04-13T01:40:00</td><td style = \"text-align: right;\">1</td></tr><tr><td class = \"rowNumber\" style = \"font-weight: bold; text-align: right;\">11</td><td style = \"text-align: left;\">MCD-COL60-WH-0L</td><td style = \"text-align: left;\">2022-04-13T11:00:00</td><td style = \"text-align: right;\">2</td></tr><tr><td class = \"rowNumber\" style = \"font-weight: bold; text-align: right;\">12</td><td style = \"text-align: left;\">MCD-COL60-WH-0L</td><td style = \"text-align: left;\">2022-04-13T11:45:00</td><td style = \"text-align: right;\">2</td></tr><tr><td class = \"rowNumber\" style = \"font-weight: bold; text-align: right;\">13</td><td style = \"text-align: left;\">MCD-COL60-WH-0L</td><td style = \"text-align: left;\">2022-04-14T09:30:00</td><td style = \"text-align: right;\">1</td></tr><tr><td style = \"text-align: right;\">&vellip;</td><td style = \"text-align: right;\">&vellip;</td><td style = \"text-align: right;\">&vellip;</td><td style = \"text-align: right;\">&vellip;</td></tr><tr><td class = \"rowNumber\" style = \"font-weight: bold; text-align: right;\">163</td><td style = \"text-align: left;\">MCD-COL60-WH-0L</td><td style = \"text-align: left;\">2023-06-30T20:15:00</td><td style = \"text-align: right;\">1</td></tr><tr><td class = \"rowNumber\" style = \"font-weight: bold; text-align: right;\">164</td><td style = \"text-align: left;\">MCD-COL60-WH-0L</td><td style = \"text-align: left;\">2023-07-11T14:21:00</td><td style = \"text-align: right;\">15</td></tr><tr><td class = \"rowNumber\" style = \"font-weight: bold; text-align: right;\">165</td><td style = \"text-align: left;\">MCD-COL60-WH-0L</td><td style = \"text-align: left;\">2023-08-07T13:27:00</td><td style = \"text-align: right;\">1</td></tr><tr><td class = \"rowNumber\" style = \"font-weight: bold; text-align: right;\">166</td><td style = \"text-align: left;\">MCD-COL60-WH-0L</td><td style = \"text-align: left;\">2023-09-05T15:27:00</td><td style = \"text-align: right;\">1</td></tr><tr><td class = \"rowNumber\" style = \"font-weight: bold; text-align: right;\">167</td><td style = \"text-align: left;\">MCD-COL60-WH-0L</td><td style = \"text-align: left;\">2023-10-10T13:41:00</td><td style = \"text-align: right;\">1</td></tr><tr><td class = \"rowNumber\" style = \"font-weight: bold; text-align: right;\">168</td><td style = \"text-align: left;\">MCD-COL60-WH-0L</td><td style = \"text-align: left;\">2023-10-18T13:10:00</td><td style = \"text-align: right;\">1</td></tr><tr><td class = \"rowNumber\" style = \"font-weight: bold; text-align: right;\">169</td><td style = \"text-align: left;\">MCD-COL60-WH-0L</td><td style = \"text-align: left;\">2023-10-23T16:08:00</td><td style = \"text-align: right;\">1</td></tr><tr><td class = \"rowNumber\" style = \"font-weight: bold; text-align: right;\">170</td><td style = \"text-align: left;\">MCD-COL60-WH-0L</td><td style = \"text-align: left;\">2023-11-10T15:15:00</td><td style = \"text-align: right;\">1</td></tr><tr><td class = \"rowNumber\" style = \"font-weight: bold; text-align: right;\">171</td><td style = \"text-align: left;\">MCD-COL60-WH-0L</td><td style = \"text-align: left;\">2023-11-17T14:50:00</td><td style = \"text-align: right;\">1</td></tr><tr><td class = \"rowNumber\" style = \"font-weight: bold; text-align: right;\">172</td><td style = \"text-align: left;\">MCD-COL60-WH-0L</td><td style = \"text-align: left;\">2023-11-18T05:55:00</td><td style = \"text-align: right;\">1</td></tr><tr><td class = \"rowNumber\" style = \"font-weight: bold; text-align: right;\">173</td><td style = \"text-align: left;\">MCD-COL60-WH-0L</td><td style = \"text-align: left;\">2023-11-21T01:20:00</td><td style = \"text-align: right;\">1</td></tr><tr><td class = \"rowNumber\" style = \"font-weight: bold; text-align: right;\">174</td><td style = \"text-align: left;\">MCD-COL60-WH-0L</td><td style = \"text-align: left;\">2024-01-02T12:10:00</td><td style = \"text-align: right;\">3</td></tr></tbody></table></div>"
      ],
      "text/latex": [
       "\\begin{tabular}{r|ccc}\n",
       "\t& ITEM & ORDER\\_DATE & ORDER\\_QUANTITY\\\\\n",
       "\t\\hline\n",
       "\t& String31 & DateTime & Int64\\\\\n",
       "\t\\hline\n",
       "\t1 & MCD-COL60-WH-0L & 2022-04-09T07:25:00 & 1 \\\\\n",
       "\t2 & MCD-COL60-WH-0L & 2022-04-09T07:35:00 & 1 \\\\\n",
       "\t3 & MCD-COL60-WH-0L & 2022-04-09T08:10:00 & 1 \\\\\n",
       "\t4 & MCD-COL60-WH-0L & 2022-04-09T10:25:00 & 1 \\\\\n",
       "\t5 & MCD-COL60-WH-0L & 2022-04-09T11:05:00 & 1 \\\\\n",
       "\t6 & MCD-COL60-WH-0L & 2022-04-09T11:15:00 & 4 \\\\\n",
       "\t7 & MCD-COL60-WH-0L & 2022-04-09T13:50:00 & 1 \\\\\n",
       "\t8 & MCD-COL60-WH-0L & 2022-04-10T15:30:00 & 1 \\\\\n",
       "\t9 & MCD-COL60-WH-0L & 2022-04-12T11:00:00 & 1 \\\\\n",
       "\t10 & MCD-COL60-WH-0L & 2022-04-13T01:40:00 & 1 \\\\\n",
       "\t11 & MCD-COL60-WH-0L & 2022-04-13T11:00:00 & 2 \\\\\n",
       "\t12 & MCD-COL60-WH-0L & 2022-04-13T11:45:00 & 2 \\\\\n",
       "\t13 & MCD-COL60-WH-0L & 2022-04-14T09:30:00 & 1 \\\\\n",
       "\t14 & MCD-COL60-WH-0L & 2022-04-15T08:00:00 & 1 \\\\\n",
       "\t15 & MCD-COL60-WH-0L & 2022-04-20T00:00:00 & 1 \\\\\n",
       "\t16 & MCD-COL60-WH-0L & 2022-04-20T21:40:00 & 1 \\\\\n",
       "\t17 & MCD-COL60-WH-0L & 2022-04-22T11:00:00 & 2 \\\\\n",
       "\t18 & MCD-COL60-WH-0L & 2022-04-23T06:25:00 & 1 \\\\\n",
       "\t19 & MCD-COL60-WH-0L & 2022-04-23T11:00:00 & 1 \\\\\n",
       "\t20 & MCD-COL60-WH-0L & 2022-04-25T09:55:00 & 1 \\\\\n",
       "\t21 & MCD-COL60-WH-0L & 2022-04-26T02:00:00 & 1 \\\\\n",
       "\t22 & MCD-COL60-WH-0L & 2022-04-26T23:00:00 & 1 \\\\\n",
       "\t23 & MCD-COL60-WH-0L & 2022-04-26T23:30:00 & 1 \\\\\n",
       "\t24 & MCD-COL60-WH-0L & 2022-04-27T03:10:00 & 1 \\\\\n",
       "\t$\\dots$ & $\\dots$ & $\\dots$ & $\\dots$ \\\\\n",
       "\\end{tabular}\n"
      ],
      "text/plain": [
       "\u001b[1m174×3 DataFrame\u001b[0m\n",
       "\u001b[1m Row \u001b[0m│\u001b[1m ITEM            \u001b[0m\u001b[1m ORDER_DATE          \u001b[0m\u001b[1m ORDER_QUANTITY \u001b[0m\n",
       "     │\u001b[90m String31        \u001b[0m\u001b[90m DateTime            \u001b[0m\u001b[90m Int64          \u001b[0m\n",
       "─────┼──────────────────────────────────────────────────────\n",
       "   1 │ MCD-COL60-WH-0L  2022-04-09T07:25:00               1\n",
       "   2 │ MCD-COL60-WH-0L  2022-04-09T07:35:00               1\n",
       "   3 │ MCD-COL60-WH-0L  2022-04-09T08:10:00               1\n",
       "   4 │ MCD-COL60-WH-0L  2022-04-09T10:25:00               1\n",
       "   5 │ MCD-COL60-WH-0L  2022-04-09T11:05:00               1\n",
       "   6 │ MCD-COL60-WH-0L  2022-04-09T11:15:00               4\n",
       "   7 │ MCD-COL60-WH-0L  2022-04-09T13:50:00               1\n",
       "   8 │ MCD-COL60-WH-0L  2022-04-10T15:30:00               1\n",
       "  ⋮  │        ⋮                  ⋮                 ⋮\n",
       " 168 │ MCD-COL60-WH-0L  2023-10-18T13:10:00               1\n",
       " 169 │ MCD-COL60-WH-0L  2023-10-23T16:08:00               1\n",
       " 170 │ MCD-COL60-WH-0L  2023-11-10T15:15:00               1\n",
       " 171 │ MCD-COL60-WH-0L  2023-11-17T14:50:00               1\n",
       " 172 │ MCD-COL60-WH-0L  2023-11-18T05:55:00               1\n",
       " 173 │ MCD-COL60-WH-0L  2023-11-21T01:20:00               1\n",
       " 174 │ MCD-COL60-WH-0L  2024-01-02T12:10:00               3\n",
       "\u001b[36m                                            159 rows omitted\u001b[0m"
      ]
     },
     "metadata": {},
     "output_type": "display_data"
    }
   ],
   "source": [
    "item = \"MCD-COL60-WH-0L\"\n",
    "\n",
    "df_inventory = DataFrame(DATE = [Date(2023,1,1)], \n",
    "        ITEM = [item], \n",
    "        INV_ONHAND = [0], \n",
    "        INV_ONORDER = [2], \n",
    "        INV_BACKORDER = [0])\n",
    "\n",
    "df_item_supply = subset(df_supply, :ITEM => ByRow(==(item)))\n",
    "df_sales = select(df_item_supply, :ITEM, :ORDER_DATE, :ORDERED_QUANTITY => :ORDER_QUANTITY)\n",
    "sort!(df_sales, :ORDER_DATE)\n"
   ]
  },
  {
   "cell_type": "code",
   "execution_count": 10,
   "metadata": {},
   "outputs": [
    {
     "name": "stdout",
     "output_type": "stream",
     "text": [
      "date_current = Date(\"2021-02-01\")\n"
     ]
    },
    {
     "ename": "ArgumentError",
     "evalue": "ArgumentError: column name :ITEM not found in the data frame",
     "output_type": "error",
     "traceback": [
      "ArgumentError: column name :ITEM not found in the data frame\n",
      "\n",
      "Stacktrace:\n",
      "  [1] lookupname\n",
      "    @ C:\\Users\\Remi Lequette\\.julia\\packages\\DataFrames\\58MUJ\\src\\other\\index.jl:413 [inlined]\n",
      "  [2] getindex\n",
      "    @ C:\\Users\\Remi Lequette\\.julia\\packages\\DataFrames\\58MUJ\\src\\other\\index.jl:422 [inlined]\n",
      "  [3] parentcols\n",
      "    @ C:\\Users\\Remi Lequette\\.julia\\packages\\DataFrames\\58MUJ\\src\\other\\index.jl:472 [inlined]\n",
      "  [4] getindex\n",
      "    @ C:\\Users\\Remi Lequette\\.julia\\packages\\DataFrames\\58MUJ\\src\\dataframerow\\dataframerow.jl:212 [inlined]\n",
      "  [5] getproperty(r::DataFrameRow{DataFrame, DataFrames.Index}, idx::Symbol)\n",
      "    @ DataFrames C:\\Users\\Remi Lequette\\.julia\\packages\\DataFrames\\58MUJ\\src\\dataframerow\\dataframerow.jl:302\n",
      "  [6] (::var\"#39#41\"{String, Date})(row::DataFrameRow{DataFrame, DataFrames.Index})\n",
      "    @ Main c:\\Users\\Remi Lequette\\Documents\\julia\\inventory\\src\\simulation.jl:81\n",
      "  [7] filter(f::var\"#39#41\"{String, Date}, a::DataFrames.DataFrameRows{DataFrame})\n",
      "    @ Base .\\array.jl:2690\n",
      "  [8] replenish_from_df!(df_delivery::DataFrame, item::String, date::Date, onhand::Int64, df_sales::DataFrame)\n",
      "    @ Main c:\\Users\\Remi Lequette\\Documents\\julia\\inventory\\src\\simulation.jl:81\n",
      "  [9] simulate_inventory(date_to::Date, df_inventory::DataFrame, df_sales::DataFrame, order_data::DataFrame, replenish!::typeof(replenish_from_df!))\n",
      "    @ Main c:\\Users\\Remi Lequette\\Documents\\julia\\inventory\\src\\simulation.jl:38\n",
      " [10] top-level scope\n",
      "    @ c:\\Users\\Remi Lequette\\Documents\\julia\\inventory\\jl_notebook_cell_df34fa98e69747e1a8f8a730347b8e2f_W5sZmlsZQ==.jl:1"
     ]
    }
   ],
   "source": [
    "simulate_inventory(Date(2024,1,1), df_inventory, df_sales, df_delivery, replenish_from_df!)\n"
   ]
  }
 ],
 "metadata": {
  "kernelspec": {
   "display_name": "Julia 1.10.4",
   "language": "julia",
   "name": "julia-1.10"
  },
  "language_info": {
   "file_extension": ".jl",
   "mimetype": "application/julia",
   "name": "julia",
   "version": "1.10.4"
  }
 },
 "nbformat": 4,
 "nbformat_minor": 2
}
